# Code below saves RData files to cifar_data.npz to be used for resnets

library(reticulate)

load("data/x_train_images.RData")
load("data/y_train_images.RData")
load("data/x_test_images.RData")
  
# Find the path to the python executable
py_path <- system("which python3", intern = TRUE)
use_python(py_path)

np <- import("numpy")

np$savez("cifar_data.npz",
         x_train = x_train,
         y_train = y_train,
         x_test = x_test)
