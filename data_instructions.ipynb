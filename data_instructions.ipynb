{
 "cells": [
  {
   "cell_type": "code",
   "execution_count": null,
   "id": "59a19b1f",
   "metadata": {},
   "outputs": [],
   "source": [
    "# Code below saves RData files to cifar_data.npz to be used for resnets\n",
    "\n",
    "library(reticulate)\n",
    "\n",
    "load(\"data/x_train_images.RData\")\n",
    "load(\"data/y_train_images.RData\")\n",
    "load(\"data/x_test_images.RData\")\n",
    "  \n",
    "# Find the path to the python executable\n",
    "py_path <- system(\"which python3\", intern = TRUE)\n",
    "use_python(py_path)\n",
    "\n",
    "np <- import(\"numpy\")\n",
    "\n",
    "np$savez(\"cifar_data.npz\",\n",
    "         x_train = x_train,\n",
    "         y_train = y_train,\n",
    "         x_test = x_test)"
   ]
  }
 ],
 "metadata": {
  "kernelspec": {
   "display_name": "Python 3",
   "language": "python",
   "name": "python3"
  },
  "language_info": {
   "name": "python",
   "version": "3.11.9"
  }
 },
 "nbformat": 4,
 "nbformat_minor": 5
}
